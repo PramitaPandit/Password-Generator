{
 "cells": [
  {
   "cell_type": "markdown",
   "metadata": {},
   "source": [
    "# Password Generator\n",
    "\n",
    "You can use Pythons string and random modules to generate passwords.\n",
    "\n",
    "The string module contains a number of useful constants and classes.\n",
    "\n",
    "Some of them we are going to use in this script.\n",
    "\n",
    "string.ascii_letters\n",
    "Concatenation of the ascii (upper and lowercase) letters\n",
    "\n",
    "string.digits\n",
    "The string ‘0123456789’.\n",
    "\n",
    "string.punctuation\n",
    "String of ASCII characters which are considered punctuation characters in the C\n",
    "locale.\n",
    "\n",
    "print string.ascii_letters\n",
    "\n",
    "print string.digits\n",
    "\n",
    "print string.punctuation"
   ]
  },
  {
   "cell_type": "code",
   "execution_count": 3,
   "metadata": {},
   "outputs": [
    {
     "name": "stdout",
     "output_type": "stream",
     "text": [
      "HlFi_Q5Jd8jx;:;\n"
     ]
    }
   ],
   "source": [
    "import string\n",
    "from random import *\n",
    "characters = string.ascii_letters + string.punctuation  + string.digits\n",
    "password =  \"\".join(choice(characters) for x in range(randint(8, 16)))\n",
    "print (password)\n"
   ]
  }
 ],
 "metadata": {
  "kernelspec": {
   "display_name": "Python 3",
   "language": "python",
   "name": "python3"
  },
  "language_info": {
   "codemirror_mode": {
    "name": "ipython",
    "version": 3
   },
   "file_extension": ".py",
   "mimetype": "text/x-python",
   "name": "python",
   "nbconvert_exporter": "python",
   "pygments_lexer": "ipython3",
   "version": "3.8.5"
  }
 },
 "nbformat": 4,
 "nbformat_minor": 4
}
